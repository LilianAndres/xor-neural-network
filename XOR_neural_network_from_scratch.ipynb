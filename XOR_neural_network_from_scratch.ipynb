{
  "nbformat": 4,
  "nbformat_minor": 0,
  "metadata": {
    "colab": {
      "provenance": []
    },
    "kernelspec": {
      "name": "python3",
      "display_name": "Python 3"
    },
    "language_info": {
      "name": "python"
    }
  },
  "cells": [
    {
      "cell_type": "code",
      "execution_count": null,
      "metadata": {
        "id": "IC8ZZzVr73pc"
      },
      "outputs": [],
      "source": [
        "import numpy as np\n",
        "from matplotlib import pyplot as plt"
      ]
    },
    {
      "cell_type": "code",
      "source": [
        "X = np.array([[0, 0], [0, 1], [1, 0], [1, 1]])\n",
        "y = np.array([[0], [1], [1], [0]])"
      ],
      "metadata": {
        "id": "prr9r5BMAuOk"
      },
      "execution_count": null,
      "outputs": []
    },
    {
      "cell_type": "code",
      "source": [
        "def init_params():\n",
        "  W1 = np.random.rand(2, 2)\n",
        "  b1 = np.random.rand(2, 1)\n",
        "  W2 = np.random.rand(1, 2)\n",
        "  b2 = np.random.rand()\n",
        "  return W1, b1, W2, b2"
      ],
      "metadata": {
        "id": "O4zXJiX88GlW"
      },
      "execution_count": null,
      "outputs": []
    },
    {
      "cell_type": "code",
      "source": [
        "def ReLu(Z):\n",
        "  return np.maximum(Z, 0)"
      ],
      "metadata": {
        "id": "28xOnRbv9DU2"
      },
      "execution_count": null,
      "outputs": []
    },
    {
      "cell_type": "code",
      "source": [
        "def sigmoid(Z):\n",
        "  return 1 / (1 + np.exp(-Z))"
      ],
      "metadata": {
        "id": "CndGqORf9T3-"
      },
      "execution_count": null,
      "outputs": []
    },
    {
      "cell_type": "code",
      "source": [
        "def forward_prop(W1, b1, W2, b2, X):\n",
        "  Z1 = W1 @ X + b1\n",
        "  A1 = ReLu(Z1)\n",
        "  Z2 = W2 @ A1 + b2\n",
        "  A2 = sigmoid(Z2)\n",
        "  return Z1, A1, Z2, A2"
      ],
      "metadata": {
        "id": "w1hA_1799poG"
      },
      "execution_count": null,
      "outputs": []
    },
    {
      "cell_type": "code",
      "source": [
        "def loss_mse(Y_pred, Y):\n",
        "    return 0.5 * np.sum((Y_pred - Y) ** 2)"
      ],
      "metadata": {
        "id": "UGCIAklFBGVb"
      },
      "execution_count": null,
      "outputs": []
    },
    {
      "cell_type": "code",
      "source": [
        "def ReLU_deriv(Z):\n",
        "    return Z > 0"
      ],
      "metadata": {
        "id": "Jm-PyRy0_lz0"
      },
      "execution_count": null,
      "outputs": []
    },
    {
      "cell_type": "code",
      "source": [
        "def sigmoid_deriv(A):\n",
        "  return A * (1 - A)"
      ],
      "metadata": {
        "id": "pTBD9MJ5E6gj"
      },
      "execution_count": null,
      "outputs": []
    },
    {
      "cell_type": "code",
      "source": [
        "def backward_prop(Z1, A1, Z2, A2, W1, W2, X, Y):\n",
        "  dZ2 = (A2 - Y) * sigmoid_deriv(A2)\n",
        "  dW2 = dZ2 @ A1.T\n",
        "  db2 = dZ2\n",
        "  dZ1 = (W2.T @ dZ2) * ReLU_deriv(Z1)\n",
        "  dW1 = dZ1 @ X.T\n",
        "  db1 = dZ1\n",
        "  return dW1, db1, dW2, db2"
      ],
      "metadata": {
        "id": "XVQeh3AP-V5J"
      },
      "execution_count": null,
      "outputs": []
    },
    {
      "cell_type": "code",
      "source": [
        "def update_params(W1, b1, W2, b2, dW1, db1, dW2, db2, alpha):\n",
        "    W1 = W1 - alpha * dW1\n",
        "    b1 = b1 - alpha * db1\n",
        "    W2 = W2 - alpha * dW2\n",
        "    b2 = b2 - alpha * db2\n",
        "    return W1, b1, W2, b2"
      ],
      "metadata": {
        "id": "CsmD7onJ__PT"
      },
      "execution_count": null,
      "outputs": []
    },
    {
      "cell_type": "code",
      "source": [
        "def gradient_descent(X, Y, alpha, iterations):\n",
        "    W1, b1, W2, b2 = init_params()\n",
        "    n_samples = X.shape[0]\n",
        "    loss_history = []\n",
        "\n",
        "    for i in range(iterations):\n",
        "      for j in range(n_samples):\n",
        "          x = X[j].reshape(-1, 1) # shape (2,1)\n",
        "          y = Y[j].reshape(-1, 1) # shape (1,1)\n",
        "\n",
        "          Z1, A1, Z2, A2 = forward_prop(W1, b1, W2, b2, x)\n",
        "\n",
        "          loss = loss_mse(A2, y)\n",
        "          loss_history.append(loss)\n",
        "\n",
        "          dW1, db1, dW2, db2 = backward_prop(Z1, A1, Z2, A2, W1, W2, x, y)\n",
        "          W1, b1, W2, b2 = update_params(W1, b1, W2, b2, dW1, db1, dW2, db2, alpha)\n",
        "\n",
        "    return W1, b1, W2, b2, loss_history"
      ],
      "metadata": {
        "id": "KvF69VjEAP8e"
      },
      "execution_count": null,
      "outputs": []
    },
    {
      "cell_type": "code",
      "source": [
        "W1, b1, W2, b2, losses = gradient_descent(X, y, alpha=0.1, iterations=10000)\n",
        "\n",
        "plt.plot(losses)\n",
        "plt.title(\"Loss evolution over epochs\")\n",
        "plt.show()"
      ],
      "metadata": {
        "colab": {
          "base_uri": "https://localhost:8080/",
          "height": 452
        },
        "id": "NxowoLq7A2p_",
        "outputId": "642f5676-4407-4ff7-8d89-d29154335178"
      },
      "execution_count": null,
      "outputs": [
        {
          "output_type": "display_data",
          "data": {
            "text/plain": [
              "<Figure size 640x480 with 1 Axes>"
            ],
            "image/png": "[encoded data removed]"
          },
          "metadata": {}
        }
      ]
    },
    {
      "cell_type": "code",
      "source": [
        "def predict(x):\n",
        "  _, _, _, A2 = forward_prop(W1, b1, W2, b2, x)\n",
        "  return A2"
      ],
      "metadata": {
        "id": "SWI9CIlFFCkJ"
      },
      "execution_count": null,
      "outputs": []
    },
    {
      "cell_type": "code",
      "source": [
        "predict(np.array([[0], [1]]))"
      ],
      "metadata": {
        "colab": {
          "base_uri": "https://localhost:8080/"
        },
        "id": "luShFJUMFwAo",
        "outputId": "d44cc5e3-8c32-4ef7-8bad-0fcce2b00dc1"
      },
      "execution_count": null,
      "outputs": [
        {
          "output_type": "execute_result",
          "data": {
            "text/plain": [
              "array([[0.98479996]])"
            ]
          },
          "metadata": {},
          "execution_count": 17
        }
      ]
    },
    {
      "cell_type": "code",
      "source": [
        "predict(np.array([[0], [0]]))"
      ],
      "metadata": {
        "colab": {
          "base_uri": "https://localhost:8080/"
        },
        "id": "KNnnQ0TZGHIr",
        "outputId": "cd98ebc7-4d4b-40ce-97d8-b0b58004a9fd"
      },
      "execution_count": null,
      "outputs": [
        {
          "output_type": "execute_result",
          "data": {
            "text/plain": [
              "array([[0.03219009]])"
            ]
          },
          "metadata": {},
          "execution_count": 18
        }
      ]
    },
    {
      "cell_type": "code",
      "source": [
        "predict(np.array([[1], [0]]))"
      ],
      "metadata": {
        "colab": {
          "base_uri": "https://localhost:8080/"
        },
        "id": "zh4B_x2VGLwB",
        "outputId": "150fb093-916b-45eb-bf99-58d5e2370c05"
      },
      "execution_count": null,
      "outputs": [
        {
          "output_type": "execute_result",
          "data": {
            "text/plain": [
              "array([[0.98479103]])"
            ]
          },
          "metadata": {},
          "execution_count": 19
        }
      ]
    },
    {
      "cell_type": "code",
      "source": [
        "predict(np.array([[1], [1]]))"
      ],
      "metadata": {
        "colab": {
          "base_uri": "https://localhost:8080/"
        },
        "id": "-rwWdJpOGNQx",
        "outputId": "1e719b7c-2c13-4cb3-eb78-4d0a1c57636f"
      },
      "execution_count": null,
      "outputs": [
        {
          "output_type": "execute_result",
          "data": {
            "text/plain": [
              "array([[0.01265191]])"
            ]
          },
          "metadata": {},
          "execution_count": 20
        }
      ]
    }
  ]
}